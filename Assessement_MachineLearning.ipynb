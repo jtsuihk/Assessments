{
  "nbformat": 4,
  "nbformat_minor": 0,
  "metadata": {
    "colab": {
      "provenance": [],
      "authorship_tag": "ABX9TyNkJ+eTON+p/at43afDdvTO",
      "include_colab_link": true
    },
    "kernelspec": {
      "name": "python3",
      "display_name": "Python 3"
    },
    "language_info": {
      "name": "python"
    }
  },
  "cells": [
    {
      "cell_type": "markdown",
      "metadata": {
        "id": "view-in-github",
        "colab_type": "text"
      },
      "source": [
        "<a href=\"https://colab.research.google.com/github/jtsuihk/Assessments/blob/main/Assessement_MachineLearning.ipynb\" target=\"_parent\"><img src=\"https://colab.research.google.com/assets/colab-badge.svg\" alt=\"Open In Colab\"/></a>"
      ]
    },
    {
      "cell_type": "code",
      "source": [
        "#Problem 1"
      ],
      "metadata": {
        "id": "7WbiD5B2t1Sf"
      },
      "execution_count": null,
      "outputs": []
    },
    {
      "cell_type": "code",
      "execution_count": 16,
      "metadata": {
        "id": "6qd9pDyIXNlb"
      },
      "outputs": [],
      "source": [
        "def longestpath(dict):\n",
        "\n",
        "    max = 0\n",
        "    for key in dict:\n",
        "      path = []\n",
        "      \n",
        "      while key in dict:\n",
        "        if key not in path:\n",
        "          path.append(key)\n",
        "          key = dict[key]\n",
        "\n",
        "        else:\n",
        "          break\n",
        "\n",
        "      if len(path) > max:\n",
        "         max = len(path)\n",
        "\n",
        "    return max\n",
        "   "
      ]
    },
    {
      "cell_type": "code",
      "source": [
        "dict1 = {'a':'b', 'b':'c', 'c':'d', 'd':'e', 'e':'f', 'f':'a'}\n",
        "print(longestpath(dict1))"
      ],
      "metadata": {
        "colab": {
          "base_uri": "https://localhost:8080/"
        },
        "id": "gEVaWfe2oqU9",
        "outputId": "b1e2b1c0-a455-4aea-841c-598586ecbb2f"
      },
      "execution_count": 17,
      "outputs": [
        {
          "output_type": "stream",
          "name": "stdout",
          "text": [
            "6\n"
          ]
        }
      ]
    },
    {
      "cell_type": "code",
      "source": [
        "dict2 ={'a':'b', 'b':'a'}\n",
        "print(longestpath(dict2))"
      ],
      "metadata": {
        "colab": {
          "base_uri": "https://localhost:8080/"
        },
        "id": "q4lPzWMzpEhR",
        "outputId": "c0151e62-b391-474d-a8ff-cd95239e604f"
      },
      "execution_count": 19,
      "outputs": [
        {
          "output_type": "stream",
          "name": "stdout",
          "text": [
            "2\n"
          ]
        }
      ]
    },
    {
      "cell_type": "code",
      "source": [
        "#Problem 2"
      ],
      "metadata": {
        "id": "3n27BjXMt_--"
      },
      "execution_count": null,
      "outputs": []
    },
    {
      "cell_type": "code",
      "source": [
        "import pandas as pd\n",
        "from sklearn.model_selection import train_test_split\n",
        "from sklearn.preprocessing import MinMaxScaler\n",
        "from sklearn.linear_model import LogisticRegression\n",
        "from sklearn.neighbors import KNeighborsClassifier\n",
        "from sklearn.metrics import accuracy_score\n",
        "from sklearn.metrics import precision_score"
      ],
      "metadata": {
        "id": "sga8iBHwuACx"
      },
      "execution_count": 21,
      "outputs": []
    },
    {
      "cell_type": "code",
      "source": [
        "#q1\n",
        "df = pd.read_csv(\"/content/heart.csv\")"
      ],
      "metadata": {
        "id": "-K8d4muluAHA"
      },
      "execution_count": 22,
      "outputs": []
    },
    {
      "cell_type": "code",
      "source": [
        "df.head()"
      ],
      "metadata": {
        "colab": {
          "base_uri": "https://localhost:8080/",
          "height": 204
        },
        "id": "axlXtEMg4Hng",
        "outputId": "4da4aceb-ccc0-4b0a-e624-aef90db923c2"
      },
      "execution_count": 25,
      "outputs": [
        {
          "output_type": "execute_result",
          "data": {
            "text/plain": [
              "   age  sex  cp  trestbps  chol  fbs  restecg  thalach  exang  oldpeak  slope  \\\n",
              "0   63    1   3       145   233    1        0      150      0      2.3      0   \n",
              "1   37    1   2       130   250    0        1      187      0      3.5      0   \n",
              "2   41    0   1       130   204    0        0      172      0      1.4      2   \n",
              "3   56    1   1       120   236    0        1      178      0      0.8      2   \n",
              "4   57    0   0       120   354    0        1      163      1      0.6      2   \n",
              "\n",
              "   ca  thal  target  \n",
              "0   0     1       1  \n",
              "1   0     2       1  \n",
              "2   0     2       1  \n",
              "3   0     2       1  \n",
              "4   0     2       1  "
            ],
            "text/html": [
              "\n",
              "  <div id=\"df-cfd903dd-eceb-4369-853d-bcacadba3ab6\">\n",
              "    <div class=\"colab-df-container\">\n",
              "      <div>\n",
              "<style scoped>\n",
              "    .dataframe tbody tr th:only-of-type {\n",
              "        vertical-align: middle;\n",
              "    }\n",
              "\n",
              "    .dataframe tbody tr th {\n",
              "        vertical-align: top;\n",
              "    }\n",
              "\n",
              "    .dataframe thead th {\n",
              "        text-align: right;\n",
              "    }\n",
              "</style>\n",
              "<table border=\"1\" class=\"dataframe\">\n",
              "  <thead>\n",
              "    <tr style=\"text-align: right;\">\n",
              "      <th></th>\n",
              "      <th>age</th>\n",
              "      <th>sex</th>\n",
              "      <th>cp</th>\n",
              "      <th>trestbps</th>\n",
              "      <th>chol</th>\n",
              "      <th>fbs</th>\n",
              "      <th>restecg</th>\n",
              "      <th>thalach</th>\n",
              "      <th>exang</th>\n",
              "      <th>oldpeak</th>\n",
              "      <th>slope</th>\n",
              "      <th>ca</th>\n",
              "      <th>thal</th>\n",
              "      <th>target</th>\n",
              "    </tr>\n",
              "  </thead>\n",
              "  <tbody>\n",
              "    <tr>\n",
              "      <th>0</th>\n",
              "      <td>63</td>\n",
              "      <td>1</td>\n",
              "      <td>3</td>\n",
              "      <td>145</td>\n",
              "      <td>233</td>\n",
              "      <td>1</td>\n",
              "      <td>0</td>\n",
              "      <td>150</td>\n",
              "      <td>0</td>\n",
              "      <td>2.3</td>\n",
              "      <td>0</td>\n",
              "      <td>0</td>\n",
              "      <td>1</td>\n",
              "      <td>1</td>\n",
              "    </tr>\n",
              "    <tr>\n",
              "      <th>1</th>\n",
              "      <td>37</td>\n",
              "      <td>1</td>\n",
              "      <td>2</td>\n",
              "      <td>130</td>\n",
              "      <td>250</td>\n",
              "      <td>0</td>\n",
              "      <td>1</td>\n",
              "      <td>187</td>\n",
              "      <td>0</td>\n",
              "      <td>3.5</td>\n",
              "      <td>0</td>\n",
              "      <td>0</td>\n",
              "      <td>2</td>\n",
              "      <td>1</td>\n",
              "    </tr>\n",
              "    <tr>\n",
              "      <th>2</th>\n",
              "      <td>41</td>\n",
              "      <td>0</td>\n",
              "      <td>1</td>\n",
              "      <td>130</td>\n",
              "      <td>204</td>\n",
              "      <td>0</td>\n",
              "      <td>0</td>\n",
              "      <td>172</td>\n",
              "      <td>0</td>\n",
              "      <td>1.4</td>\n",
              "      <td>2</td>\n",
              "      <td>0</td>\n",
              "      <td>2</td>\n",
              "      <td>1</td>\n",
              "    </tr>\n",
              "    <tr>\n",
              "      <th>3</th>\n",
              "      <td>56</td>\n",
              "      <td>1</td>\n",
              "      <td>1</td>\n",
              "      <td>120</td>\n",
              "      <td>236</td>\n",
              "      <td>0</td>\n",
              "      <td>1</td>\n",
              "      <td>178</td>\n",
              "      <td>0</td>\n",
              "      <td>0.8</td>\n",
              "      <td>2</td>\n",
              "      <td>0</td>\n",
              "      <td>2</td>\n",
              "      <td>1</td>\n",
              "    </tr>\n",
              "    <tr>\n",
              "      <th>4</th>\n",
              "      <td>57</td>\n",
              "      <td>0</td>\n",
              "      <td>0</td>\n",
              "      <td>120</td>\n",
              "      <td>354</td>\n",
              "      <td>0</td>\n",
              "      <td>1</td>\n",
              "      <td>163</td>\n",
              "      <td>1</td>\n",
              "      <td>0.6</td>\n",
              "      <td>2</td>\n",
              "      <td>0</td>\n",
              "      <td>2</td>\n",
              "      <td>1</td>\n",
              "    </tr>\n",
              "  </tbody>\n",
              "</table>\n",
              "</div>\n",
              "      <button class=\"colab-df-convert\" onclick=\"convertToInteractive('df-cfd903dd-eceb-4369-853d-bcacadba3ab6')\"\n",
              "              title=\"Convert this dataframe to an interactive table.\"\n",
              "              style=\"display:none;\">\n",
              "        \n",
              "  <svg xmlns=\"http://www.w3.org/2000/svg\" height=\"24px\"viewBox=\"0 0 24 24\"\n",
              "       width=\"24px\">\n",
              "    <path d=\"M0 0h24v24H0V0z\" fill=\"none\"/>\n",
              "    <path d=\"M18.56 5.44l.94 2.06.94-2.06 2.06-.94-2.06-.94-.94-2.06-.94 2.06-2.06.94zm-11 1L8.5 8.5l.94-2.06 2.06-.94-2.06-.94L8.5 2.5l-.94 2.06-2.06.94zm10 10l.94 2.06.94-2.06 2.06-.94-2.06-.94-.94-2.06-.94 2.06-2.06.94z\"/><path d=\"M17.41 7.96l-1.37-1.37c-.4-.4-.92-.59-1.43-.59-.52 0-1.04.2-1.43.59L10.3 9.45l-7.72 7.72c-.78.78-.78 2.05 0 2.83L4 21.41c.39.39.9.59 1.41.59.51 0 1.02-.2 1.41-.59l7.78-7.78 2.81-2.81c.8-.78.8-2.07 0-2.86zM5.41 20L4 18.59l7.72-7.72 1.47 1.35L5.41 20z\"/>\n",
              "  </svg>\n",
              "      </button>\n",
              "      \n",
              "  <style>\n",
              "    .colab-df-container {\n",
              "      display:flex;\n",
              "      flex-wrap:wrap;\n",
              "      gap: 12px;\n",
              "    }\n",
              "\n",
              "    .colab-df-convert {\n",
              "      background-color: #E8F0FE;\n",
              "      border: none;\n",
              "      border-radius: 50%;\n",
              "      cursor: pointer;\n",
              "      display: none;\n",
              "      fill: #1967D2;\n",
              "      height: 32px;\n",
              "      padding: 0 0 0 0;\n",
              "      width: 32px;\n",
              "    }\n",
              "\n",
              "    .colab-df-convert:hover {\n",
              "      background-color: #E2EBFA;\n",
              "      box-shadow: 0px 1px 2px rgba(60, 64, 67, 0.3), 0px 1px 3px 1px rgba(60, 64, 67, 0.15);\n",
              "      fill: #174EA6;\n",
              "    }\n",
              "\n",
              "    [theme=dark] .colab-df-convert {\n",
              "      background-color: #3B4455;\n",
              "      fill: #D2E3FC;\n",
              "    }\n",
              "\n",
              "    [theme=dark] .colab-df-convert:hover {\n",
              "      background-color: #434B5C;\n",
              "      box-shadow: 0px 1px 3px 1px rgba(0, 0, 0, 0.15);\n",
              "      filter: drop-shadow(0px 1px 2px rgba(0, 0, 0, 0.3));\n",
              "      fill: #FFFFFF;\n",
              "    }\n",
              "  </style>\n",
              "\n",
              "      <script>\n",
              "        const buttonEl =\n",
              "          document.querySelector('#df-cfd903dd-eceb-4369-853d-bcacadba3ab6 button.colab-df-convert');\n",
              "        buttonEl.style.display =\n",
              "          google.colab.kernel.accessAllowed ? 'block' : 'none';\n",
              "\n",
              "        async function convertToInteractive(key) {\n",
              "          const element = document.querySelector('#df-cfd903dd-eceb-4369-853d-bcacadba3ab6');\n",
              "          const dataTable =\n",
              "            await google.colab.kernel.invokeFunction('convertToInteractive',\n",
              "                                                     [key], {});\n",
              "          if (!dataTable) return;\n",
              "\n",
              "          const docLinkHtml = 'Like what you see? Visit the ' +\n",
              "            '<a target=\"_blank\" href=https://colab.research.google.com/notebooks/data_table.ipynb>data table notebook</a>'\n",
              "            + ' to learn more about interactive tables.';\n",
              "          element.innerHTML = '';\n",
              "          dataTable['output_type'] = 'display_data';\n",
              "          await google.colab.output.renderOutput(dataTable, element);\n",
              "          const docLink = document.createElement('div');\n",
              "          docLink.innerHTML = docLinkHtml;\n",
              "          element.appendChild(docLink);\n",
              "        }\n",
              "      </script>\n",
              "    </div>\n",
              "  </div>\n",
              "  "
            ]
          },
          "metadata": {},
          "execution_count": 25
        }
      ]
    },
    {
      "cell_type": "code",
      "source": [
        "#q2\n",
        "df.shape"
      ],
      "metadata": {
        "colab": {
          "base_uri": "https://localhost:8080/"
        },
        "id": "PuskYMQF4Hse",
        "outputId": "d6b7895a-ab80-4fcc-d738-fa9e93ee6855"
      },
      "execution_count": 26,
      "outputs": [
        {
          "output_type": "execute_result",
          "data": {
            "text/plain": [
              "(303, 14)"
            ]
          },
          "metadata": {},
          "execution_count": 26
        }
      ]
    },
    {
      "cell_type": "code",
      "source": [
        "#q3\n",
        "print(df.groupby('target')['target'].count())"
      ],
      "metadata": {
        "colab": {
          "base_uri": "https://localhost:8080/"
        },
        "id": "VVE04zU14HwU",
        "outputId": "15016a6f-ec30-45c4-a346-962548aae657"
      },
      "execution_count": 28,
      "outputs": [
        {
          "output_type": "stream",
          "name": "stdout",
          "text": [
            "target\n",
            "0    138\n",
            "1    165\n",
            "Name: target, dtype: int64\n"
          ]
        }
      ]
    },
    {
      "cell_type": "code",
      "source": [
        "#q4\n",
        "print(round(df.groupby(\"target\")[\"target\"].count()[1]/len(df)*100,2))\n"
      ],
      "metadata": {
        "colab": {
          "base_uri": "https://localhost:8080/"
        },
        "id": "aeXvZhPN4H0j",
        "outputId": "58c2c3a0-7db0-4426-a437-107a69d385fa"
      },
      "execution_count": 29,
      "outputs": [
        {
          "output_type": "stream",
          "name": "stdout",
          "text": [
            "54.46\n"
          ]
        }
      ]
    },
    {
      "cell_type": "code",
      "source": [
        "#q5 \n",
        "print(df.groupby(\"target\").mean())"
      ],
      "metadata": {
        "colab": {
          "base_uri": "https://localhost:8080/"
        },
        "id": "lR3RI84j4H4T",
        "outputId": "20f45a22-c7ed-4300-8e67-a10896c1a3ab"
      },
      "execution_count": 30,
      "outputs": [
        {
          "output_type": "stream",
          "name": "stdout",
          "text": [
            "              age       sex        cp    trestbps        chol       fbs  \\\n",
            "target                                                                    \n",
            "0       56.601449  0.826087  0.478261  134.398551  251.086957  0.159420   \n",
            "1       52.496970  0.563636  1.375758  129.303030  242.230303  0.139394   \n",
            "\n",
            "         restecg     thalach     exang   oldpeak     slope        ca      thal  \n",
            "target                                                                          \n",
            "0       0.449275  139.101449  0.550725  1.585507  1.166667  1.166667  2.543478  \n",
            "1       0.593939  158.466667  0.139394  0.583030  1.593939  0.363636  2.121212  \n"
          ]
        }
      ]
    },
    {
      "cell_type": "code",
      "source": [
        "#q6\n",
        "r = [\"cp\", \"thal\", \"slope\"]\n",
        "for i in r :\n",
        "    df = pd.concat([df, pd.get_dummies(df[i], prefix=i)], axis=1)\n",
        "print(df)"
      ],
      "metadata": {
        "colab": {
          "base_uri": "https://localhost:8080/"
        },
        "id": "Dlxqo_EacFez",
        "outputId": "f9d12fa4-e2c0-4da1-9ead-722d75e6cf74"
      },
      "execution_count": 31,
      "outputs": [
        {
          "output_type": "stream",
          "name": "stdout",
          "text": [
            "     age  sex  cp  trestbps  chol  fbs  restecg  thalach  exang  oldpeak  ...  \\\n",
            "0     63    1   3       145   233    1        0      150      0      2.3  ...   \n",
            "1     37    1   2       130   250    0        1      187      0      3.5  ...   \n",
            "2     41    0   1       130   204    0        0      172      0      1.4  ...   \n",
            "3     56    1   1       120   236    0        1      178      0      0.8  ...   \n",
            "4     57    0   0       120   354    0        1      163      1      0.6  ...   \n",
            "..   ...  ...  ..       ...   ...  ...      ...      ...    ...      ...  ...   \n",
            "298   57    0   0       140   241    0        1      123      1      0.2  ...   \n",
            "299   45    1   3       110   264    0        1      132      0      1.2  ...   \n",
            "300   68    1   0       144   193    1        1      141      0      3.4  ...   \n",
            "301   57    1   0       130   131    0        1      115      1      1.2  ...   \n",
            "302   57    0   1       130   236    0        0      174      0      0.0  ...   \n",
            "\n",
            "     cp_1  cp_2  cp_3  thal_0  thal_1  thal_2  thal_3  slope_0  slope_1  \\\n",
            "0       0     0     1       0       1       0       0        1        0   \n",
            "1       0     1     0       0       0       1       0        1        0   \n",
            "2       1     0     0       0       0       1       0        0        0   \n",
            "3       1     0     0       0       0       1       0        0        0   \n",
            "4       0     0     0       0       0       1       0        0        0   \n",
            "..    ...   ...   ...     ...     ...     ...     ...      ...      ...   \n",
            "298     0     0     0       0       0       0       1        0        1   \n",
            "299     0     0     1       0       0       0       1        0        1   \n",
            "300     0     0     0       0       0       0       1        0        1   \n",
            "301     0     0     0       0       0       0       1        0        1   \n",
            "302     1     0     0       0       0       1       0        0        1   \n",
            "\n",
            "     slope_2  \n",
            "0          0  \n",
            "1          0  \n",
            "2          1  \n",
            "3          1  \n",
            "4          1  \n",
            "..       ...  \n",
            "298        0  \n",
            "299        0  \n",
            "300        0  \n",
            "301        0  \n",
            "302        0  \n",
            "\n",
            "[303 rows x 25 columns]\n"
          ]
        }
      ]
    },
    {
      "cell_type": "code",
      "source": [
        "#q7\n",
        "for i in r :\n",
        "    df = df.drop([i], axis=1)\n",
        "print(df)"
      ],
      "metadata": {
        "colab": {
          "base_uri": "https://localhost:8080/"
        },
        "id": "TcUd82MhcFiX",
        "outputId": "0262447b-5bc5-4f75-940f-f276b0e8c494"
      },
      "execution_count": 33,
      "outputs": [
        {
          "output_type": "stream",
          "name": "stdout",
          "text": [
            "     age  sex  trestbps  chol  fbs  restecg  thalach  exang  oldpeak  ca  ...  \\\n",
            "0     63    1       145   233    1        0      150      0      2.3   0  ...   \n",
            "1     37    1       130   250    0        1      187      0      3.5   0  ...   \n",
            "2     41    0       130   204    0        0      172      0      1.4   0  ...   \n",
            "3     56    1       120   236    0        1      178      0      0.8   0  ...   \n",
            "4     57    0       120   354    0        1      163      1      0.6   0  ...   \n",
            "..   ...  ...       ...   ...  ...      ...      ...    ...      ...  ..  ...   \n",
            "298   57    0       140   241    0        1      123      1      0.2   0  ...   \n",
            "299   45    1       110   264    0        1      132      0      1.2   0  ...   \n",
            "300   68    1       144   193    1        1      141      0      3.4   2  ...   \n",
            "301   57    1       130   131    0        1      115      1      1.2   1  ...   \n",
            "302   57    0       130   236    0        0      174      0      0.0   1  ...   \n",
            "\n",
            "     cp_1  cp_2  cp_3  thal_0  thal_1  thal_2  thal_3  slope_0  slope_1  \\\n",
            "0       0     0     1       0       1       0       0        1        0   \n",
            "1       0     1     0       0       0       1       0        1        0   \n",
            "2       1     0     0       0       0       1       0        0        0   \n",
            "3       1     0     0       0       0       1       0        0        0   \n",
            "4       0     0     0       0       0       1       0        0        0   \n",
            "..    ...   ...   ...     ...     ...     ...     ...      ...      ...   \n",
            "298     0     0     0       0       0       0       1        0        1   \n",
            "299     0     0     1       0       0       0       1        0        1   \n",
            "300     0     0     0       0       0       0       1        0        1   \n",
            "301     0     0     0       0       0       0       1        0        1   \n",
            "302     1     0     0       0       0       1       0        0        1   \n",
            "\n",
            "     slope_2  \n",
            "0          0  \n",
            "1          0  \n",
            "2          1  \n",
            "3          1  \n",
            "4          1  \n",
            "..       ...  \n",
            "298        0  \n",
            "299        0  \n",
            "300        0  \n",
            "301        0  \n",
            "302        0  \n",
            "\n",
            "[303 rows x 22 columns]\n"
          ]
        }
      ]
    },
    {
      "cell_type": "code",
      "source": [
        "#q8\n",
        "x = df.loc[:, df.columns != \"target\"]\n",
        "y = df[\"target\"]\n",
        "x_train, x_test , y_train, y_test = train_test_split(x, y, test_size=0.2, random_state=42)"
      ],
      "metadata": {
        "id": "UubLkhspcFnJ"
      },
      "execution_count": 34,
      "outputs": []
    },
    {
      "cell_type": "code",
      "source": [
        "#q9\n",
        "x_train_scaled = MinMaxScaler().fit(x_train).transform(x_train)\n",
        "x_test_scaled = MinMaxScaler().fit(x_test).transform(x_test)"
      ],
      "metadata": {
        "id": "g7PShValifrQ"
      },
      "execution_count": 35,
      "outputs": []
    },
    {
      "cell_type": "code",
      "source": [
        "#10\n",
        "lr = LogisticRegression().fit(x_train_scaled, y_train)\n",
        "lr_pre = lr.predict(x_test_scaled)\n",
        "print(\"Logistic regression model - accuracy score :\", round(accuracy_score(y_test, lr_pre),2))\n",
        "print(\"Logistic regression model - accuracy score :\", round(precision_score(y_test, lr_pre),2))\n"
      ],
      "metadata": {
        "colab": {
          "base_uri": "https://localhost:8080/"
        },
        "id": "ehbFKGL3ifwi",
        "outputId": "e4353b5e-5872-4d60-f2fe-93263c868e67"
      },
      "execution_count": 36,
      "outputs": [
        {
          "output_type": "stream",
          "name": "stdout",
          "text": [
            "Logistic regression model - accuracy score : 0.89\n",
            "Logistic regression model - accuracy score : 0.93\n"
          ]
        }
      ]
    },
    {
      "cell_type": "code",
      "source": [
        "#11\n",
        "knn = KNeighborsClassifier(n_neighbors=3).fit(x_train_scaled, y_train)\n",
        "knn_pre = knn.predict(x_test_scaled)\n",
        "print(\"KNN model - accuracy score :\", round(accuracy_score(y_test, knn_pre),2))\n",
        "print(\"KNN model - accuracy score :\", round(precision_score(y_test, knn_pre),2))"
      ],
      "metadata": {
        "colab": {
          "base_uri": "https://localhost:8080/"
        },
        "id": "ocHVuvSlif5a",
        "outputId": "8448d20b-9a99-4f14-caf7-34ceaa8c864c"
      },
      "execution_count": 37,
      "outputs": [
        {
          "output_type": "stream",
          "name": "stdout",
          "text": [
            "KNN model - accuracy score : 0.79\n",
            "KNN model - accuracy score : 0.88\n"
          ]
        }
      ]
    }
  ]
}