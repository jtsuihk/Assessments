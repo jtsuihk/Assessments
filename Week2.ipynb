{
 "cells": [
  {
   "cell_type": "code",
   "execution_count": 2,
   "id": "1ec1be30",
   "metadata": {},
   "outputs": [],
   "source": [
    "# PROBLEM 1\n",
    "# Write a Pandas program to convert a given dictionary into a Dataframe.\n",
    "# The first element of the input list must be the column name.\n",
    "# The converted dataframe should be returned. Sample Input:\n",
    "\n",
    "# dict={'A':[1,0,0,1], 'B':[0,1,1,0], 'C':[0,1,1,0], 'D':[1,0,0,1]}\n",
    "\n",
    "#Sample Output:\n",
    "\n",
    "#    A  B  C  D\n",
    "# 0  1  0  0  1\n",
    "# 1  0  1  1  0\n",
    "# 2  0  1  1  0\n",
    "# 3  1  0  0  1"
   ]
  },
  {
   "cell_type": "code",
   "execution_count": 8,
   "id": "0d85c8f2",
   "metadata": {},
   "outputs": [
    {
     "name": "stdout",
     "output_type": "stream",
     "text": [
      "   A  B  C  D\n",
      "0  1  0  0  1\n",
      "1  0  1  1  0\n",
      "2  0  1  1  0\n",
      "3  1  0  0  1\n"
     ]
    }
   ],
   "source": [
    "import pandas as pd\n",
    "\n",
    "dict={'A':[1,0,0,1], 'B':[0,1,1,0], 'C':[0,1,1,0], 'D':[1,0,0,1]}\n",
    "\n",
    "new = pd.DataFrame.from_dict(dict)\n",
    "print(new)\n"
   ]
  },
  {
   "cell_type": "code",
   "execution_count": null,
   "id": "3d7ff62d",
   "metadata": {},
   "outputs": [],
   "source": [
    "# PROBLEM 2\n",
    "\n",
    "# Write inside the load() function to read the openrice.csv file in the data folder and return the whole dataframe.\n",
    "\n",
    "# The dataframe should only have 10 rows and 8 columns."
   ]
  },
  {
   "cell_type": "code",
   "execution_count": 28,
   "id": "aa20ad89",
   "metadata": {},
   "outputs": [],
   "source": [
    "import pandas as pd\n",
    "import numpy as np"
   ]
  },
  {
   "cell_type": "code",
   "execution_count": 38,
   "id": "38f288b9",
   "metadata": {},
   "outputs": [],
   "source": [
    "filename = pd.read_csv('/Users/Joseph/Downloads/week3assignment/data/openrice.csv')\n",
    "df = filename"
   ]
  },
  {
   "cell_type": "code",
   "execution_count": 37,
   "id": "935e303b",
   "metadata": {},
   "outputs": [
    {
     "name": "stdout",
     "output_type": "stream",
     "text": [
      "   Unnamed: 0                                            address  bookmarks  \\\n",
      "0           0                     Shop J-K., 200 Hollywood Road,       5838   \n",
      "1           1                           G/F, 108 Hollywood Road,       3492   \n",
      "2           2                           G/F, 206 Hollywood Road,       5517   \n",
      "3           3  Shop 3018, 3/F, Shun Tak Centre, 168-200 Conna...       1173   \n",
      "4           4                          G/F, 38 Queens Road West,       1064   \n",
      "5           5  Shop 1, G/F, King Ho Building, 41-49 Aberdeen ...       3300   \n",
      "6           6                               G/F, 12 Tung Street,       5101   \n",
      "7           7  G/F, Sea View Commercial Building, 21-24 Conna...        591   \n",
      "8           8  Shop 1B, G/F, Cheungs Building, 1 Wing Lok Str...       1224   \n",
      "9           9                             G/F, 8 Hillier Street,       1452   \n",
      "\n",
      "   dislikes        food_type  likes                              name  \\\n",
      "0         6  Hong Kong Style     78         For Kee Restaurant 科記咖啡餐室   \n",
      "1         2    International     20  Blue · Butcher & Meat Specialist   \n",
      "2         5             Thai     31                         Chachawan   \n",
      "3         1  Hong Kong Style     23                 Capital Café 華星冰室   \n",
      "4         1           Indian     50              Namaste Kitchen 滋味廚房   \n",
      "5         0       Vietnamese     21                Bun Cha Vietnamese   \n",
      "6         3          Western     14               Halfway Coffee 半路咖啡   \n",
      "7         3        Guangdong     30        Fung Shing Restaurant 鳳城酒家   \n",
      "8         0          Western     28                     Veggi Monster   \n",
      "9         0         Japanese     28                         Pokéworld   \n",
      "\n",
      "  number_of_reviews price_range  \n",
      "0     (133 Reviews)   Below $50  \n",
      "1      (30 Reviews)    $201-400  \n",
      "2      (43 Reviews)    $201-400  \n",
      "3      (39 Reviews)   Below $50  \n",
      "4      (57 Reviews)     $51-100  \n",
      "5      (33 Reviews)    $101-200  \n",
      "6      (25 Reviews)   Below $50  \n",
      "7      (37 Reviews)    $101-200  \n",
      "8      (32 Reviews)     $51-100  \n",
      "9      (37 Reviews)     $51-100  \n"
     ]
    }
   ],
   "source": [
    "class Load_Data:\n",
    "    def __init__(self,filename):\n",
    "        self._filename = filename\n",
    "        \n",
    "    def load(self): \n",
    "        df = pd.read_csv(self._filename)\n",
    "        return df \n",
    "print(df)"
   ]
  },
  {
   "cell_type": "code",
   "execution_count": null,
   "id": "7c71c915",
   "metadata": {},
   "outputs": [],
   "source": [
    "#PROBLEM 2B\n",
    "#Write inside the makeCategory() function to only return a column called 'price_category' which categorizes the price_range as follows:\n",
    "\n",
    "#\"Below $50\": Cheap\n",
    "\n",
    "#\"$51-100\": Not Cheap\n",
    "\n",
    "#\"$101-200\": Expensive\n",
    "\n",
    "#\"$201-400\": Very Expensive"
   ]
  },
  {
   "cell_type": "code",
   "execution_count": 42,
   "id": "d0fb3d6a",
   "metadata": {},
   "outputs": [
    {
     "name": "stdout",
     "output_type": "stream",
     "text": [
      "0             cheap\n",
      "1    very expensive\n",
      "2    very expensive\n",
      "3             cheap\n",
      "4         Not Cheap\n",
      "5              None\n",
      "6             cheap\n",
      "7              None\n",
      "8         Not Cheap\n",
      "9         Not Cheap\n",
      "Name: price_range, dtype: object\n"
     ]
    }
   ],
   "source": [
    "def makeCatagory(x):\n",
    "    if x == 'Below $50':\n",
    "        return 'cheap'\n",
    "    if x == '$51-100':\n",
    "        return 'Not Cheap'\n",
    "    if x == '$202-200':\n",
    "        return 'expensive'\n",
    "    if x == '$201-400':\n",
    "        return 'very expensive'\n",
    "    \n",
    "new = df['Prie Category'] = df['price_range'].apply(makeCatagory)\n",
    "\n",
    "print(new)\n",
    "\n",
    "    \n",
    "\n"
   ]
  },
  {
   "cell_type": "code",
   "execution_count": null,
   "id": "33eb90cb",
   "metadata": {},
   "outputs": [],
   "source": [
    "# PROBLEM 2C\n",
    "# Write inside the totalDislike() function to only return the total number of dislikes for each price range."
   ]
  },
  {
   "cell_type": "code",
   "execution_count": 75,
   "id": "ebf575d2",
   "metadata": {},
   "outputs": [
    {
     "data": {
      "text/plain": [
       "price_range\n",
       "$101-200      3\n",
       "$201-400      7\n",
       "$51-100       1\n",
       "Below $50    10\n",
       "Name: dislikes, dtype: int64"
      ]
     },
     "execution_count": 75,
     "metadata": {},
     "output_type": "execute_result"
    }
   ],
   "source": [
    "def totalDislikes():\n",
    "    return df.groupby('price_range')['dislikes'].sum()\n",
    "totalDislikes()\n",
    "    "
   ]
  },
  {
   "cell_type": "code",
   "execution_count": null,
   "id": "afa47fb9",
   "metadata": {},
   "outputs": [],
   "source": [
    "# PROBLEM 2D\n",
    "#Write inside the totalBookmarks() function to return the sum of bookmarks of all 'Hong Kong Style' restaurants."
   ]
  },
  {
   "cell_type": "code",
   "execution_count": 78,
   "id": "2787a0c9",
   "metadata": {},
   "outputs": [
    {
     "data": {
      "text/plain": [
       "7011"
      ]
     },
     "execution_count": 78,
     "metadata": {},
     "output_type": "execute_result"
    }
   ],
   "source": [
    "def totalBookmarks():\n",
    "    return df.loc[df['food_type'] == 'Hong Kong Style', 'bookmarks'].sum()\n",
    "    \n",
    "totalBookmarks()\n"
   ]
  },
  {
   "cell_type": "code",
   "execution_count": null,
   "id": "c7fb0411",
   "metadata": {},
   "outputs": [],
   "source": [
    "#PROBLEM 2E\n",
    "\n",
    "#For the 'number_of_reviews' column, only extract the values of reviews. For example, (13 Reviews) \n",
    "#should be converted to 13 as an integer. Write inside extractReview() function to return the modified 'number_of_review' column."
   ]
  },
  {
   "cell_type": "code",
   "execution_count": 86,
   "id": "0763d53d",
   "metadata": {},
   "outputs": [
    {
     "data": {
      "text/plain": [
       "0    133\n",
       "1     30\n",
       "2     43\n",
       "3     39\n",
       "4     57\n",
       "5     33\n",
       "6     25\n",
       "7     37\n",
       "8     32\n",
       "9     37\n",
       "dtype: int64"
      ]
     },
     "execution_count": 86,
     "metadata": {},
     "output_type": "execute_result"
    }
   ],
   "source": [
    "def extractReview():\n",
    "    return df['number_of_reviews'].astype('str').str.extractall('(\\d+)').unstack().fillna('').sum(axis=1).astype(int)\n",
    "\n",
    "extractReview()"
   ]
  }
 ],
 "metadata": {
  "kernelspec": {
   "display_name": "Python 3 (ipykernel)",
   "language": "python",
   "name": "python3"
  },
  "language_info": {
   "codemirror_mode": {
    "name": "ipython",
    "version": 3
   },
   "file_extension": ".py",
   "mimetype": "text/x-python",
   "name": "python",
   "nbconvert_exporter": "python",
   "pygments_lexer": "ipython3",
   "version": "3.9.12"
  }
 },
 "nbformat": 4,
 "nbformat_minor": 5
}
