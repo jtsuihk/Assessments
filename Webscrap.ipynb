{
 "cells": [
  {
   "cell_type": "code",
   "execution_count": 10,
   "id": "dfa33a41",
   "metadata": {},
   "outputs": [],
   "source": [
    "import json\n",
    "import numpy as np\n",
    "import requests as r\n",
    "import pandas as pd\n",
    "from datetime import date\n",
    "from datetime import datetime"
   ]
  },
  {
   "cell_type": "code",
   "execution_count": 15,
   "id": "fff89d99",
   "metadata": {},
   "outputs": [],
   "source": [
    "header = {\"user-agent\":'Mozilla/5.0 (Macintosh; Intel Mac OS X 10_15_7) AppleWebKit/605.1.15 (KHTML, like Gecko) Version/15.6.1 Safari/605.1.15'}\n",
    "res = r.get('https://openapi.westkowloon.hk/datagovhk/carpark',headers=header)\n",
    "content = json.loads(res.text)"
   ]
  },
  {
   "cell_type": "code",
   "execution_count": 16,
   "id": "962c10d9",
   "metadata": {},
   "outputs": [
    {
     "data": {
      "text/plain": [
       "200"
      ]
     },
     "execution_count": 16,
     "metadata": {},
     "output_type": "execute_result"
    }
   ],
   "source": [
    "res.status_code"
   ]
  },
  {
   "cell_type": "code",
   "execution_count": 17,
   "id": "a54baa9c",
   "metadata": {},
   "outputs": [
    {
     "data": {
      "text/plain": [
       "['Xiqu Centre Car Park, West Kowloon Cultural District',\n",
       " 'N/A',\n",
       " 'Art Park (Zone E) Car Park, West Kowloon Cultural District',\n",
       " 2.1,\n",
       " 'Art Park (Zone E) Car Park, West Kowloon Cultural District',\n",
       " 2.1]"
      ]
     },
     "execution_count": 17,
     "metadata": {},
     "output_type": "execute_result"
    }
   ],
   "source": [
    "def carParkInfo():\n",
    "    for i in range(len(content)):\n",
    "        name = content['carParks'][0]['name']['en']\n",
    "        heightlmt = content['carParks'][0]['heightLimit']\n",
    "        name1 = content['carParks'][1]['name']['en']\n",
    "        heightlmt1 = content['carParks'][1]['heightLimit']\n",
    "        name2 = content['carParks'][1]['name']['en']\n",
    "        heightlmt2 = content['carParks'][1]['heightLimit']\n",
    "    \n",
    "    return [name,heightlmt,name1,heightlmt1,name2,heightlmt2]\n",
    "\n",
    "    \n",
    "\n",
    "carParkInfo()\n",
    "\n"
   ]
  },
  {
   "cell_type": "code",
   "execution_count": 2,
   "id": "30b74253",
   "metadata": {},
   "outputs": [],
   "source": [
    "from urllib.request import urlopen as uReq\n",
    "from urllib.parse import urljoin\n",
    "from bs4 import BeautifulSoup as bs\n",
    "import requests\n"
   ]
  },
  {
   "cell_type": "code",
   "execution_count": 23,
   "id": "dda04a4b",
   "metadata": {},
   "outputs": [
    {
     "name": "stdout",
     "output_type": "stream",
     "text": [
      "Title of the book :A Light in the Attic\n",
      "Price of the book :£51.77\n",
      "Title of the book :Tipping the Velvet\n",
      "Price of the book :£53.74\n",
      "Title of the book :Soumission\n",
      "Price of the book :£50.10\n",
      "Title of the book :Sharp Objects\n",
      "Price of the book :£47.82\n",
      "Title of the book :Sapiens: A Brief History of Humankind\n",
      "Price of the book :£54.23\n",
      "Title of the book :The Requiem Red\n",
      "Price of the book :£22.65\n",
      "Title of the book :The Dirty Little Secrets of Getting Your Dream Job\n",
      "Price of the book :£33.34\n",
      "Title of the book :The Coming Woman: A Novel Based on the Life of the Infamous Feminist, Victoria Woodhull\n",
      "Price of the book :£17.93\n",
      "Title of the book :The Boys in the Boat: Nine Americans and Their Epic Quest for Gold at the 1936 Berlin Olympics\n",
      "Price of the book :£22.60\n",
      "Title of the book :The Black Maria\n",
      "Price of the book :£52.15\n",
      "Title of the book :Starving Hearts (Triangular Trade Trilogy, #1)\n",
      "Price of the book :£13.99\n",
      "Title of the book :Shakespeare's Sonnets\n",
      "Price of the book :£20.66\n",
      "Title of the book :Set Me Free\n",
      "Price of the book :£17.46\n",
      "Title of the book :Scott Pilgrim's Precious Little Life (Scott Pilgrim #1)\n",
      "Price of the book :£52.29\n",
      "Title of the book :Rip it Up and Start Again\n",
      "Price of the book :£35.02\n",
      "Title of the book :Our Band Could Be Your Life: Scenes from the American Indie Underground, 1981-1991\n",
      "Price of the book :£57.25\n",
      "Title of the book :Olio\n",
      "Price of the book :£23.88\n",
      "Title of the book :Mesaerion: The Best Science Fiction Stories 1800-1849\n",
      "Price of the book :£37.59\n",
      "Title of the book :Libertarianism for Beginners\n",
      "Price of the book :£51.33\n",
      "Title of the book :It's Only the Himalayas\n",
      "Price of the book :£45.17\n",
      "Title of the book :In Her Wake\n",
      "Price of the book :£12.84\n",
      "Title of the book :How Music Works\n",
      "Price of the book :£37.32\n",
      "Title of the book :Foolproof Preserving: A Guide to Small Batch Jams, Jellies, Pickles, Condiments, and More: A Foolproof Guide to Making Small Batch Jams, Jellies, Pickles, Condiments, and More\n",
      "Price of the book :£30.52\n",
      "Title of the book :Chase Me (Paris Nights #2)\n",
      "Price of the book :£25.27\n",
      "Title of the book :Black Dust\n",
      "Price of the book :£34.53\n",
      "Title of the book :Birdsong: A Story in Pictures\n",
      "Price of the book :£54.64\n",
      "Title of the book :America's Cradle of Quarterbacks: Western Pennsylvania's Football Factory from Johnny Unitas to Joe Montana\n",
      "Price of the book :£22.50\n",
      "Title of the book :Aladdin and His Wonderful Lamp\n",
      "Price of the book :£53.13\n",
      "Title of the book :Worlds Elsewhere: Journeys Around Shakespeareâs Globe\n",
      "Price of the book :£40.30\n",
      "Title of the book :Wall and Piece\n",
      "Price of the book :£44.18\n",
      "Title of the book :The Four Agreements: A Practical Guide to Personal Freedom\n",
      "Price of the book :£17.66\n",
      "Title of the book :The Five Love Languages: How to Express Heartfelt Commitment to Your Mate\n",
      "Price of the book :£31.05\n",
      "Title of the book :The Elephant Tree\n",
      "Price of the book :£23.82\n",
      "Title of the book :The Bear and the Piano\n",
      "Price of the book :£36.89\n",
      "Title of the book :Sophie's World\n",
      "Price of the book :£15.94\n",
      "Title of the book :Penny Maybe\n",
      "Price of the book :£33.29\n",
      "Title of the book :Maude (1883-1993):She Grew Up with the country\n",
      "Price of the book :£18.02\n",
      "Title of the book :In a Dark, Dark Wood\n",
      "Price of the book :£19.63\n",
      "Title of the book :Behind Closed Doors\n",
      "Price of the book :£52.22\n",
      "Title of the book :You can't bury them all: Poems\n",
      "Price of the book :£33.63\n",
      "Title of the book :Slow States of Collapse: Poems\n",
      "Price of the book :£57.31\n",
      "Title of the book :Reasons to Stay Alive\n",
      "Price of the book :£26.41\n",
      "Title of the book :Private Paris (Private #10)\n",
      "Price of the book :£47.61\n",
      "Title of the book :#HigherSelfie: Wake Up Your Life. Free Your Soul. Find Your Tribe.\n",
      "Price of the book :£23.11\n",
      "Title of the book :Without Borders (Wanderlove #1)\n",
      "Price of the book :£45.07\n",
      "Title of the book :When We Collided\n",
      "Price of the book :£31.77\n",
      "Title of the book :We Love You, Charlie Freeman\n",
      "Price of the book :£50.27\n",
      "Title of the book :Untitled Collection: Sabbath Poems 2014\n",
      "Price of the book :£14.27\n",
      "Title of the book :Unseen City: The Majesty of Pigeons, the Discreet Charm of Snails & Other Wonders of the Urban Wilderness\n",
      "Price of the book :£44.18\n",
      "Title of the book :Unicorn Tracks\n",
      "Price of the book :£18.78\n",
      "Title of the book :Unbound: How Eight Technologies Made Us Human, Transformed Society, and Brought Our World to the Brink\n",
      "Price of the book :£25.52\n",
      "Title of the book :Tsubasa: WoRLD CHRoNiCLE 2 (Tsubasa WoRLD CHRoNiCLE #2)\n",
      "Price of the book :£16.28\n",
      "Title of the book :Throwing Rocks at the Google Bus: How Growth Became the Enemy of Prosperity\n",
      "Price of the book :£31.12\n",
      "Title of the book :This One Summer\n",
      "Price of the book :£19.49\n",
      "Title of the book :Thirst\n",
      "Price of the book :£17.27\n",
      "Title of the book :The Torch Is Passed: A Harding Family Story\n",
      "Price of the book :£19.09\n",
      "Title of the book :The Secret of Dreadwillow Carse\n",
      "Price of the book :£56.13\n",
      "Title of the book :The Pioneer Woman Cooks: Dinnertime: Comfort Classics, Freezer Food, 16-Minute Meals, and Other Delicious Ways to Solve Supper!\n",
      "Price of the book :£56.41\n",
      "Title of the book :The Past Never Ends\n",
      "Price of the book :£56.50\n",
      "Title of the book :The Natural History of Us (The Fine Art of Pretending #2)\n",
      "Price of the book :£45.22\n"
     ]
    }
   ],
   "source": [
    "def findTotalSum(n):\n",
    "    \n",
    "  for page_num in range(1,n+1): \n",
    "    url = f'http://books.toscrape.com/catalogue/page-{page_num}.html'\n",
    "    headers = {'User-agent':'Mozilla/5.0 (Macintosh; Intel Mac OS X 10_15_7) AppleWebKit/605.1.15 (KHTML, like Gecko) Version/15.6.1 Safari/605.1.15'}\n",
    "    r = requests.get(url)\n",
    "    soup = bs(r.text, 'html.parser')\n",
    "  \n",
    "    book_all = soup.findAll(\"li\", {\"class\": \"col-xs-6 col-sm-4 col-md-3 col-lg-3\"})\n",
    "\n",
    "    filename = (\"Booksall.csv\")\n",
    "    f = open(filename, \"w\")\n",
    "\n",
    "    headers = \"Book Title, Price\\n\"\n",
    "    f.write(headers)\n",
    "  \n",
    "  \n",
    "    for books in book_all:\n",
    "      book_name = books.h3.a[\"title\"]\n",
    "      book_price = books.findAll(\"p\", {\"class\": \"price_color\"})\n",
    "      price = book_price[0].text.strip('Â')\n",
    " \n",
    "      print(\"Title of the book :\" + book_name)\n",
    "      print(\"Price of the book :\" + price)\n",
    "\n",
    "      f.write(book_name + \",\" + price+\"\\n\")\n",
    "\n",
    "    f.close() \n",
    "\n",
    "findTotalSum(3)"
   ]
  }
 ],
 "metadata": {
  "kernelspec": {
   "display_name": "Python 3 (ipykernel)",
   "language": "python",
   "name": "python3"
  },
  "language_info": {
   "codemirror_mode": {
    "name": "ipython",
    "version": 3
   },
   "file_extension": ".py",
   "mimetype": "text/x-python",
   "name": "python",
   "nbconvert_exporter": "python",
   "pygments_lexer": "ipython3",
   "version": "3.9.12"
  }
 },
 "nbformat": 4,
 "nbformat_minor": 5
}
